{
  "cells": [
    {
      "cell_type": "code",
      "execution_count": 1,
      "metadata": {
        "execution": {
          "iopub.execute_input": "2023-01-16T18:23:48.635012Z",
          "iopub.status.busy": "2023-01-16T18:23:48.634615Z",
          "iopub.status.idle": "2023-01-16T18:23:48.642151Z",
          "shell.execute_reply": "2023-01-16T18:23:48.641008Z",
          "shell.execute_reply.started": "2023-01-16T18:23:48.634981Z"
        },
        "id": "AMSRt1zQ_iCF",
        "trusted": true
      },
      "outputs": [
        {
          "name": "stderr",
          "output_type": "stream",
          "text": [
            "c:\\Users\\User\\anaconda3\\envs\\env_pola\\lib\\site-packages\\scipy\\__init__.py:146: UserWarning: A NumPy version >=1.16.5 and <1.23.0 is required for this version of SciPy (detected version 1.26.4\n",
            "  warnings.warn(f\"A NumPy version >={np_minversion} and <{np_maxversion}\"\n"
          ]
        }
      ],
      "source": [
        "import numpy as np\n",
        "import pandas as pd\n",
        "from matplotlib import pyplot as plt\n",
        "\n",
        "import tensorflow\n",
        "from keras import Sequential\n",
        "from keras.layers import Embedding, Bidirectional, LSTM, Dense\n",
        "from keras.optimizers import Adam\n",
        "from keras.callbacks import EarlyStopping\n",
        "from keras.models import load_model\n",
        "\n",
        "import sklearn\n",
        "from sklearn.model_selection import train_test_split"
      ]
    },
    {
      "cell_type": "code",
      "execution_count": 2,
      "metadata": {
        "execution": {
          "iopub.execute_input": "2023-01-16T17:13:10.741446Z",
          "iopub.status.busy": "2023-01-16T17:13:10.740493Z",
          "iopub.status.idle": "2023-01-16T17:13:10.848709Z",
          "shell.execute_reply": "2023-01-16T17:13:10.847620Z",
          "shell.execute_reply.started": "2023-01-16T17:13:10.741392Z"
        },
        "id": "GLXiwqDl_iCK",
        "trusted": true
      },
      "outputs": [],
      "source": [
        "data_url = \"https://drive.google.com/file/d/1Mr1niApw73MvOrXq3SA8hqoxt90jf0lV/view?usp=sharing\"\n",
        "data_url = 'https://drive.google.com/uc?id=' + data_url.split('/')[-2]\n",
        "names_df = pd.read_csv(data_url)\n",
        "names_df.columns = [\"Name\", \"Gender\"]"
      ]
    },
    {
      "cell_type": "code",
      "execution_count": 3,
      "metadata": {
        "colab": {
          "base_uri": "https://localhost:8080/",
          "height": 362
        },
        "execution": {
          "iopub.execute_input": "2023-01-16T17:13:16.633796Z",
          "iopub.status.busy": "2023-01-16T17:13:16.633340Z",
          "iopub.status.idle": "2023-01-16T17:13:16.674093Z",
          "shell.execute_reply": "2023-01-16T17:13:16.672826Z",
          "shell.execute_reply.started": "2023-01-16T17:13:16.633751Z"
        },
        "id": "1mLIUfxZ_iCL",
        "outputId": "576c761c-2aa8-47b2-cc80-c4b9139e163f",
        "trusted": true
      },
      "outputs": [
        {
          "name": "stdout",
          "output_type": "stream",
          "text": [
            "<class 'pandas.core.frame.DataFrame'>\n",
            "RangeIndex: 12949 entries, 0 to 12948\n",
            "Data columns (total 2 columns):\n",
            " #   Column  Non-Null Count  Dtype \n",
            "---  ------  --------------  ----- \n",
            " 0   Name    12949 non-null  object\n",
            " 1   Gender  12949 non-null  object\n",
            "dtypes: object(2)\n",
            "memory usage: 202.5+ KB\n"
          ]
        },
        {
          "data": {
            "text/html": [
              "<div>\n",
              "<style scoped>\n",
              "    .dataframe tbody tr th:only-of-type {\n",
              "        vertical-align: middle;\n",
              "    }\n",
              "\n",
              "    .dataframe tbody tr th {\n",
              "        vertical-align: top;\n",
              "    }\n",
              "\n",
              "    .dataframe thead th {\n",
              "        text-align: right;\n",
              "    }\n",
              "</style>\n",
              "<table border=\"1\" class=\"dataframe\">\n",
              "  <thead>\n",
              "    <tr style=\"text-align: right;\">\n",
              "      <th></th>\n",
              "      <th>Name</th>\n",
              "      <th>Gender</th>\n",
              "    </tr>\n",
              "  </thead>\n",
              "  <tbody>\n",
              "    <tr>\n",
              "      <th>0</th>\n",
              "      <td>DAVIANDRIE ANDIKA BAHROENY</td>\n",
              "      <td>Laki-Laki</td>\n",
              "    </tr>\n",
              "    <tr>\n",
              "      <th>1</th>\n",
              "      <td>ELAN KURNIAWAN</td>\n",
              "      <td>Laki-Laki</td>\n",
              "    </tr>\n",
              "    <tr>\n",
              "      <th>2</th>\n",
              "      <td>AYU DWI CAHYANING MUKTI</td>\n",
              "      <td>Perempuan</td>\n",
              "    </tr>\n",
              "    <tr>\n",
              "      <th>3</th>\n",
              "      <td>WAHYOEDIN</td>\n",
              "      <td>Laki-Laki</td>\n",
              "    </tr>\n",
              "    <tr>\n",
              "      <th>4</th>\n",
              "      <td>NURHAENI</td>\n",
              "      <td>Perempuan</td>\n",
              "    </tr>\n",
              "  </tbody>\n",
              "</table>\n",
              "</div>"
            ],
            "text/plain": [
              "                         Name     Gender\n",
              "0  DAVIANDRIE ANDIKA BAHROENY  Laki-Laki\n",
              "1              ELAN KURNIAWAN  Laki-Laki\n",
              "2     AYU DWI CAHYANING MUKTI  Perempuan\n",
              "3                   WAHYOEDIN  Laki-Laki\n",
              "4                    NURHAENI  Perempuan"
            ]
          },
          "execution_count": 3,
          "metadata": {},
          "output_type": "execute_result"
        }
      ],
      "source": [
        "names_df.info()\n",
        "names_df.head(5)"
      ]
    },
    {
      "cell_type": "code",
      "execution_count": 4,
      "metadata": {
        "colab": {
          "base_uri": "https://localhost:8080/",
          "height": 206
        },
        "execution": {
          "iopub.execute_input": "2023-01-16T17:13:24.035451Z",
          "iopub.status.busy": "2023-01-16T17:13:24.034905Z",
          "iopub.status.idle": "2023-01-16T17:13:26.684106Z",
          "shell.execute_reply": "2023-01-16T17:13:26.682623Z",
          "shell.execute_reply.started": "2023-01-16T17:13:24.035399Z"
        },
        "id": "zoWFJDzE_iCN",
        "outputId": "707a91b6-d85d-425d-8d9c-4cb824a6c853",
        "trusted": true
      },
      "outputs": [
        {
          "data": {
            "text/html": [
              "<div>\n",
              "<style scoped>\n",
              "    .dataframe tbody tr th:only-of-type {\n",
              "        vertical-align: middle;\n",
              "    }\n",
              "\n",
              "    .dataframe tbody tr th {\n",
              "        vertical-align: top;\n",
              "    }\n",
              "\n",
              "    .dataframe thead th {\n",
              "        text-align: right;\n",
              "    }\n",
              "</style>\n",
              "<table border=\"1\" class=\"dataframe\">\n",
              "  <thead>\n",
              "    <tr style=\"text-align: right;\">\n",
              "      <th></th>\n",
              "      <th>Name</th>\n",
              "      <th>Gender</th>\n",
              "    </tr>\n",
              "  </thead>\n",
              "  <tbody>\n",
              "    <tr>\n",
              "      <th>0</th>\n",
              "      <td>[4.0, 1.0, 22.0, 9.0, 1.0, 14.0, 4.0, 18.0, 9....</td>\n",
              "      <td>1.0</td>\n",
              "    </tr>\n",
              "    <tr>\n",
              "      <th>1</th>\n",
              "      <td>[5.0, 12.0, 1.0, 14.0, 0.0, 11.0, 21.0, 18.0, ...</td>\n",
              "      <td>1.0</td>\n",
              "    </tr>\n",
              "    <tr>\n",
              "      <th>2</th>\n",
              "      <td>[1.0, 25.0, 21.0, 0.0, 4.0, 23.0, 9.0, 0.0, 3....</td>\n",
              "      <td>0.0</td>\n",
              "    </tr>\n",
              "    <tr>\n",
              "      <th>3</th>\n",
              "      <td>[23.0, 1.0, 8.0, 25.0, 15.0, 5.0, 4.0, 9.0, 14...</td>\n",
              "      <td>1.0</td>\n",
              "    </tr>\n",
              "    <tr>\n",
              "      <th>4</th>\n",
              "      <td>[14.0, 21.0, 18.0, 8.0, 1.0, 5.0, 14.0, 9.0, 0...</td>\n",
              "      <td>0.0</td>\n",
              "    </tr>\n",
              "  </tbody>\n",
              "</table>\n",
              "</div>"
            ],
            "text/plain": [
              "                                                Name  Gender\n",
              "0  [4.0, 1.0, 22.0, 9.0, 1.0, 14.0, 4.0, 18.0, 9....     1.0\n",
              "1  [5.0, 12.0, 1.0, 14.0, 0.0, 11.0, 21.0, 18.0, ...     1.0\n",
              "2  [1.0, 25.0, 21.0, 0.0, 4.0, 23.0, 9.0, 0.0, 3....     0.0\n",
              "3  [23.0, 1.0, 8.0, 25.0, 15.0, 5.0, 4.0, 9.0, 14...     1.0\n",
              "4  [14.0, 21.0, 18.0, 8.0, 1.0, 5.0, 14.0, 9.0, 0...     0.0"
            ]
          },
          "execution_count": 4,
          "metadata": {},
          "output_type": "execute_result"
        }
      ],
      "source": [
        "def preprocess(names_df, train=True):\n",
        "    # Step 1: Lowercase the names\n",
        "    names_df['Name'] = names_df['Name'].str.lower()\n",
        "\n",
        "    # Step 2: Split The names to individual characters\n",
        "    names_df['Name'] = [list(name) for name in names_df['Name']]\n",
        "\n",
        "    # Step 3: Pad names with spaces to make all names same length\n",
        "    name_length = 50\n",
        "    names_df['Name'] = [\n",
        "        (name + [' ']*name_length)[:name_length] \n",
        "        for name in names_df['Name']\n",
        "    ]\n",
        "\n",
        "    # Step 4: Encode Names to Array of Numbers\n",
        "    names_df['Name'] = [\n",
        "        [\n",
        "            max(0.0, ord(char)-96.0) \n",
        "            for char in name\n",
        "        ]\n",
        "        for name in names_df['Name']\n",
        "    ]\n",
        "    \n",
        "    if train:\n",
        "        # Step 5: Encode Gender to Numbers\n",
        "        names_df['Gender'] = [\n",
        "            0.0 if gender=='Perempuan' else 1.0 \n",
        "            for gender in names_df['Gender']\n",
        "        ]\n",
        "    \n",
        "    return names_df\n",
        "\n",
        "names_df = preprocess(names_df)\n",
        "names_df.head()"
      ]
    },
    {
      "cell_type": "code",
      "execution_count": 5,
      "metadata": {
        "execution": {
          "iopub.execute_input": "2023-01-16T17:13:47.440921Z",
          "iopub.status.busy": "2023-01-16T17:13:47.440500Z",
          "iopub.status.idle": "2023-01-16T17:13:47.448273Z",
          "shell.execute_reply": "2023-01-16T17:13:47.446914Z",
          "shell.execute_reply.started": "2023-01-16T17:13:47.440888Z"
        },
        "id": "EOfTMnmD_iCP",
        "trusted": true
      },
      "outputs": [],
      "source": [
        "def lstm_model(num_alphabets=27, name_length=50, embedding_dim=256):\n",
        "    model = Sequential([\n",
        "        Embedding(num_alphabets, embedding_dim, input_length=name_length),\n",
        "        Bidirectional(LSTM(units=128, recurrent_dropout=0.2, dropout=0.2)),\n",
        "        Dense(1, activation=\"sigmoid\")\n",
        "    ])\n",
        "\n",
        "    model.compile(loss='binary_crossentropy',\n",
        "                  optimizer=Adam(learning_rate=0.001),\n",
        "                  metrics=['accuracy'])\n",
        "\n",
        "    return model"
      ]
    },
    {
      "cell_type": "code",
      "execution_count": 6,
      "metadata": {
        "execution": {
          "iopub.execute_input": "2023-01-16T17:13:52.010440Z",
          "iopub.status.busy": "2023-01-16T17:13:52.010000Z",
          "iopub.status.idle": "2023-01-16T17:13:52.436012Z",
          "shell.execute_reply": "2023-01-16T17:13:52.435138Z",
          "shell.execute_reply.started": "2023-01-16T17:13:52.010403Z"
        },
        "id": "VTq7SJ8g_iCR",
        "trusted": true
      },
      "outputs": [],
      "source": [
        "# Step 1: Instantiate the model\n",
        "model = lstm_model(num_alphabets=27, name_length=50, embedding_dim=256)"
      ]
    },
    {
      "cell_type": "code",
      "execution_count": 7,
      "metadata": {
        "execution": {
          "iopub.execute_input": "2023-01-16T17:13:57.441968Z",
          "iopub.status.busy": "2023-01-16T17:13:57.441496Z",
          "iopub.status.idle": "2023-01-16T17:13:57.866118Z",
          "shell.execute_reply": "2023-01-16T17:13:57.865204Z",
          "shell.execute_reply.started": "2023-01-16T17:13:57.441930Z"
        },
        "id": "jtNrXhzt_iCR",
        "trusted": true
      },
      "outputs": [],
      "source": [
        "# Step 2: Split Training and Test Data\n",
        "X = np.asarray(names_df['Name'].values.tolist())\n",
        "y = np.asarray(names_df['Gender'].values.tolist())\n",
        "\n",
        "X_train, X_test, y_train, y_test = train_test_split(X,\n",
        "                                                    y,\n",
        "                                                    test_size=0.2,\n",
        "                                                    random_state=0)\n"
      ]
    },
    {
      "cell_type": "code",
      "execution_count": 8,
      "metadata": {
        "colab": {
          "base_uri": "https://localhost:8080/"
        },
        "execution": {
          "iopub.execute_input": "2023-01-16T17:14:10.704212Z",
          "iopub.status.busy": "2023-01-16T17:14:10.703808Z",
          "iopub.status.idle": "2023-01-16T18:17:29.755904Z",
          "shell.execute_reply": "2023-01-16T18:17:29.754964Z",
          "shell.execute_reply.started": "2023-01-16T17:14:10.704177Z"
        },
        "id": "cB5xmzIc_iCT",
        "outputId": "29f317aa-6859-4e11-8805-33d30c33fcc2",
        "trusted": true
      },
      "outputs": [
        {
          "name": "stdout",
          "output_type": "stream",
          "text": [
            "Epoch 1/5\n",
            "162/162 [==============================] - 210s 1s/step - loss: 0.5093 - accuracy: 0.7490 - val_loss: 0.4111 - val_accuracy: 0.8151\n",
            "Epoch 2/5\n",
            "162/162 [==============================] - 137s 844ms/step - loss: 0.3946 - accuracy: 0.8225 - val_loss: 0.3453 - val_accuracy: 0.8517\n",
            "Epoch 3/5\n",
            "162/162 [==============================] - 174s 1s/step - loss: 0.3213 - accuracy: 0.8654 - val_loss: 0.2862 - val_accuracy: 0.8842\n",
            "Epoch 4/5\n",
            "162/162 [==============================] - 121s 747ms/step - loss: 0.2751 - accuracy: 0.8875 - val_loss: 0.2604 - val_accuracy: 0.8961\n",
            "Epoch 5/5\n",
            "162/162 [==============================] - 94s 580ms/step - loss: 0.2468 - accuracy: 0.8984 - val_loss: 0.2419 - val_accuracy: 0.9027\n"
          ]
        }
      ],
      "source": [
        "# Step 3: Train the model\n",
        "callbacks = [\n",
        "    EarlyStopping(monitor='val_accuracy',\n",
        "                  min_delta=1e-3,\n",
        "                  patience=5,\n",
        "                  mode='max',\n",
        "                  restore_best_weights=True,\n",
        "                  verbose=1),\n",
        "]\n",
        "\n",
        "history = model.fit(x=X_train,\n",
        "                    y=y_train,\n",
        "                    batch_size=64,\n",
        "                    epochs=5,\n",
        "                    validation_data=(X_test, y_test),\n",
        "                    callbacks=callbacks)\n"
      ]
    },
    {
      "cell_type": "code",
      "execution_count": 9,
      "metadata": {
        "execution": {
          "iopub.execute_input": "2023-01-16T18:18:00.831852Z",
          "iopub.status.busy": "2023-01-16T18:18:00.831422Z",
          "iopub.status.idle": "2023-01-16T18:18:00.870538Z",
          "shell.execute_reply": "2023-01-16T18:18:00.869463Z",
          "shell.execute_reply.started": "2023-01-16T18:18:00.831817Z"
        },
        "id": "ky3jHqiN_iCU",
        "trusted": true
      },
      "outputs": [],
      "source": [
        "# Step 4: Save the model\n",
        "model.save('gender_prediction.h5')"
      ]
    },
    {
      "cell_type": "code",
      "execution_count": 10,
      "metadata": {
        "colab": {
          "base_uri": "https://localhost:8080/"
        },
        "id": "nfGcNyhbS9iw",
        "outputId": "b7cd1b6a-f531-4750-8344-7541b05b7564"
      },
      "outputs": [
        {
          "name": "stdout",
          "output_type": "stream",
          "text": [
            "81/81 [==============================] - 13s 162ms/step - loss: 0.2419 - accuracy: 0.9027\n",
            "Accuracy: 0.9027026891708374\n"
          ]
        }
      ],
      "source": [
        "# Step 5: Evaluate the model\n",
        "loss, accuracy = model.evaluate(X_test, y_test)\n",
        "print('Accuracy:', accuracy)"
      ]
    },
    {
      "cell_type": "code",
      "execution_count": 11,
      "metadata": {
        "colab": {
          "base_uri": "https://localhost:8080/",
          "height": 296
        },
        "execution": {
          "iopub.execute_input": "2023-01-16T18:18:16.325946Z",
          "iopub.status.busy": "2023-01-16T18:18:16.325534Z",
          "iopub.status.idle": "2023-01-16T18:18:16.552918Z",
          "shell.execute_reply": "2023-01-16T18:18:16.551807Z",
          "shell.execute_reply.started": "2023-01-16T18:18:16.325914Z"
        },
        "id": "dAMHZAu-_iD8",
        "outputId": "fe614355-deb0-4eca-ddfe-88f2001d1bfe",
        "trusted": true
      },
      "outputs": [
        {
          "data": {
            "text/plain": [
              "<matplotlib.legend.Legend at 0x27dfa7919c0>"
            ]
          },
          "execution_count": 11,
          "metadata": {},
          "output_type": "execute_result"
        },
        {
          "data": {
            "image/png": "[encoded data removed]",
            "text/plain": [
              "<Figure size 640x480 with 1 Axes>"
            ]
          },
          "metadata": {},
          "output_type": "display_data"
        }
      ],
      "source": [
        "# Step 6: Plot accuracies\n",
        "plt.plot(history.history['accuracy'], label='train')\n",
        "plt.plot(history.history['val_accuracy'], label='val')\n",
        "plt.xlabel('Epochs')\n",
        "plt.ylabel('Accuracy')\n",
        "plt.legend()"
      ]
    },
    {
      "cell_type": "markdown",
      "metadata": {
        "id": "KAfTTl-4_iD9"
      },
      "source": [
        "# Testing: Predictions"
      ]
    },
    {
      "cell_type": "code",
      "execution_count": 12,
      "metadata": {
        "execution": {
          "iopub.execute_input": "2023-01-16T18:18:32.291243Z",
          "iopub.status.busy": "2023-01-16T18:18:32.290091Z",
          "iopub.status.idle": "2023-01-16T18:18:32.584689Z",
          "shell.execute_reply": "2023-01-16T18:18:32.583762Z",
          "shell.execute_reply.started": "2023-01-16T18:18:32.291205Z"
        },
        "id": "QIK4jIHr_iFI",
        "trusted": true
      },
      "outputs": [],
      "source": [
        "#Load the model\n",
        "pred_model = load_model('gender_prediction.h5')"
      ]
    },
    {
      "cell_type": "code",
      "execution_count": 16,
      "metadata": {
        "colab": {
          "base_uri": "https://localhost:8080/",
          "height": 98
        },
        "execution": {
          "iopub.execute_input": "2023-01-16T18:21:51.822788Z",
          "iopub.status.busy": "2023-01-16T18:21:51.822342Z",
          "iopub.status.idle": "2023-01-16T18:21:51.975889Z",
          "shell.execute_reply": "2023-01-16T18:21:51.975061Z",
          "shell.execute_reply.started": "2023-01-16T18:21:51.822734Z"
        },
        "id": "Xn2qchMU_iFN",
        "outputId": "07ebb03c-2790-4b5f-9be2-b441396601bd",
        "trusted": true
      },
      "outputs": [
        {
          "name": "stdout",
          "output_type": "stream",
          "text": [
            "1/1 [==============================] - 0s 98ms/step\n"
          ]
        },
        {
          "data": {
            "text/html": [
              "<div>\n",
              "<style scoped>\n",
              "    .dataframe tbody tr th:only-of-type {\n",
              "        vertical-align: middle;\n",
              "    }\n",
              "\n",
              "    .dataframe tbody tr th {\n",
              "        vertical-align: top;\n",
              "    }\n",
              "\n",
              "    .dataframe thead th {\n",
              "        text-align: right;\n",
              "    }\n",
              "</style>\n",
              "<table border=\"1\" class=\"dataframe\">\n",
              "  <thead>\n",
              "    <tr style=\"text-align: right;\">\n",
              "      <th></th>\n",
              "      <th>Name</th>\n",
              "      <th>Pria atau Wanita?</th>\n",
              "      <th>Probability</th>\n",
              "    </tr>\n",
              "  </thead>\n",
              "  <tbody>\n",
              "    <tr>\n",
              "      <th>0</th>\n",
              "      <td>Eka</td>\n",
              "      <td>Wanita</td>\n",
              "      <td>0.64</td>\n",
              "    </tr>\n",
              "  </tbody>\n",
              "</table>\n",
              "</div>"
            ],
            "text/plain": [
              "  Name Pria atau Wanita?  Probability\n",
              "0  Eka            Wanita         0.64"
            ]
          },
          "execution_count": 16,
          "metadata": {},
          "output_type": "execute_result"
        }
      ],
      "source": [
        "# Input names\n",
        "names = ['Eka']\n",
        "\n",
        "# Convert to dataframe\n",
        "pred_df = pd.DataFrame({'Name': names})\n",
        "\n",
        "# Preprocess\n",
        "pred_df = preprocess(pred_df, train=False)\n",
        "\n",
        "# Predictions\n",
        "result = pred_model.predict(np.asarray(\n",
        "    pred_df['Name'].values.tolist())).squeeze(axis=1)\n",
        "\n",
        "pred_df['Pria atau Wanita?'] = [\n",
        "    'Pria' if logit > 0.5 else 'Wanita' for logit in result\n",
        "]\n",
        "\n",
        "pred_df['Probability'] = [\n",
        "    logit if logit > 0.5 else 1.0 - logit for logit in result\n",
        "]\n",
        "\n",
        "# Format the output\n",
        "pred_df['Name'] = names\n",
        "#pred_df.rename(columns={'Name': 'Name'}, inplace=True)\n",
        "pred_df['Probability'] = pred_df['Probability'].round(2)\n",
        "pred_df.drop_duplicates(inplace=True)\n",
        "\n",
        "pred_df.head()"
      ]
    }
  ],
  "metadata": {
    "colab": {
      "provenance": []
    },
    "kernelspec": {
      "display_name": "Python 3",
      "language": "python",
      "name": "python3"
    },
    "language_info": {
      "codemirror_mode": {
        "name": "ipython",
        "version": 3
      },
      "file_extension": ".py",
      "mimetype": "text/x-python",
      "name": "python",
      "nbconvert_exporter": "python",
      "pygments_lexer": "ipython3",
      "version": "3.10.13"
    }
  },
  "nbformat": 4,
  "nbformat_minor": 0
}
